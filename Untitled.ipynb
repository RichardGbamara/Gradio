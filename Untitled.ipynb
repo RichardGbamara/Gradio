{
 "cells": [
  {
   "cell_type": "code",
   "execution_count": 3,
   "id": "0ad8df4f",
   "metadata": {},
   "outputs": [
    {
     "name": "stdout",
     "output_type": "stream",
     "text": [
      "Requirement already satisfied: joblib in c:\\users\\user\\anaconda3\\lib\\site-packages (1.1.0)\n",
      "Note: you may need to restart the kernel to use updated packages.\n"
     ]
    }
   ],
   "source": [
    "pip install joblib "
   ]
  },
  {
   "cell_type": "code",
   "execution_count": 16,
   "id": "d3432aa6",
   "metadata": {},
   "outputs": [],
   "source": [
    "import joblib\n",
    "import gradio as gr\n",
    "import numpy as np \n",
    "import pandas as pd "
   ]
  },
  {
   "cell_type": "code",
   "execution_count": 17,
   "id": "a5ff7f7a",
   "metadata": {},
   "outputs": [],
   "source": [
    "#Importing Encoders and scalers\n",
    "from sklearn.preprocessing import StandardScaler\n",
    "from sklearn.preprocessing import OneHotEncoder\n",
    "from sklearn.preprocessing import LabelEncoder\n",
    "from sklearn.preprocessing import LabelEncoder\n",
    "\n",
    "#Importing splitting module\n",
    "from sklearn.model_selection import train_test_split\n",
    "\n",
    "from sklearn.ensemble import GradientBoostingClassifier"
   ]
  },
  {
   "cell_type": "code",
   "execution_count": 14,
   "id": "99385166",
   "metadata": {},
   "outputs": [],
   "source": [
    "import warnings\n",
    "warnings.filterwarnings(\"ignore\")"
   ]
  },
  {
   "cell_type": "code",
   "execution_count": 19,
   "id": "93aa346e",
   "metadata": {},
   "outputs": [],
   "source": [
    "file_path = r\"C:\\Users\\user\\Desktop\\DESKTOP FOLDERS\\ASSIGNMENTS\\LP4 --GRADIO -- TEAM PARIS\\src\\pipe_gb.pkl\" #use raw string \n",
    "model = joblib.load(file_path)"
   ]
  },
  {
   "cell_type": "code",
   "execution_count": 22,
   "id": "fcbf3193",
   "metadata": {},
   "outputs": [
    {
     "data": {
      "text/plain": [
       "Pipeline(steps=[('columntransformer-1',\n",
       "                 ColumnTransformer(remainder='passthrough',\n",
       "                                   transformers=[('Drop customer ID',\n",
       "                                                        SeniorCitizen Dependents  tenure PhoneService     MultipleLines  \\\n",
       "0                 0         No       1           No  No phone service   \n",
       "1                 0         No      34          Yes                No   \n",
       "2                 0         No       2          Yes                No   \n",
       "3                 0         No      45           No  No phone service   \n",
       "4                 0         No       2          Yes                No   \n",
       "...             ...        ...     ...          ...               ...   \n",
       "7038              0        Yes      24          Yes               Yes   \n",
       "7039              0        Yes      72          Yes               Yes   \n",
       "7040              0        Yes      11           No  No phone service   \n",
       "7041              1         No       4          Yes               Yes   \n",
       "7042              0         No      66          Yes                No   \n",
       "\n",
       "     Inte...\n",
       "6618  1.0  0.0  1.0  0.0 -0.440327 -1.477478 -0.448379  \n",
       "6010  1.0  0.0  0.0  1.0 -0.440327  0.523597  0.432628  \n",
       "\n",
       "[1407 rows x 33 columns],\n",
       "                                                   3780    0\n",
       "1588    0\n",
       "2927    0\n",
       "198     0\n",
       "4504    0\n",
       "       ..\n",
       "6168    1\n",
       "4543    0\n",
       "3956    0\n",
       "6130    0\n",
       "6814    0\n",
       "Name: churn, Length: 5625, dtype: int64,\n",
       "                                                   5126    1\n",
       "2423    1\n",
       "2498    0\n",
       "3114    1\n",
       "2529    0\n",
       "       ..\n",
       "2351    0\n",
       "3637    0\n",
       "6703    0\n",
       "6618    0\n",
       "6010    0\n",
       "Name: churn, Length: 1407, dtype: int64])])),\n",
       "                ('columntransformer-8',\n",
       "                 ColumnTransformer(transformers=['GB Boost HypeTuned',\n",
       "                                                 SVC(kernel='linear')]))])"
      ]
     },
     "execution_count": 22,
     "metadata": {},
     "output_type": "execute_result"
    }
   ],
   "source": [
    "model"
   ]
  },
  {
   "cell_type": "code",
   "execution_count": 21,
   "id": "62ca444e",
   "metadata": {},
   "outputs": [],
   "source": [
    "scaler = StandardScaler()\n",
    "encoder = OneHotEncoder()\n",
    "le = LabelEncoder()"
   ]
  },
  {
   "cell_type": "code",
   "execution_count": 25,
   "id": "d10dd4cb",
   "metadata": {},
   "outputs": [
    {
     "ename": "AttributeError",
     "evalue": "'Pipeline' object has no attribute 'pipeline'",
     "output_type": "error",
     "traceback": [
      "\u001b[1;31m---------------------------------------------------------------------------\u001b[0m",
      "\u001b[1;31mAttributeError\u001b[0m                            Traceback (most recent call last)",
      "\u001b[1;32m~\\AppData\\Local\\Temp\\ipykernel_2256\\3693520350.py\u001b[0m in \u001b[0;36m<module>\u001b[1;34m\u001b[0m\n\u001b[1;32m----> 1\u001b[1;33m \u001b[0mmodel\u001b[0m\u001b[1;33m.\u001b[0m\u001b[0mpipeline\u001b[0m\u001b[1;33m.\u001b[0m\u001b[0mpredict\u001b[0m\u001b[1;33m(\u001b[0m\u001b[0mdf\u001b[0m\u001b[1;33m[\u001b[0m\u001b[1;34m'Churn'\u001b[0m\u001b[1;33m]\u001b[0m\u001b[1;33m)\u001b[0m\u001b[1;33m\u001b[0m\u001b[1;33m\u001b[0m\u001b[0m\n\u001b[0m",
      "\u001b[1;31mAttributeError\u001b[0m: 'Pipeline' object has no attribute 'pipeline'"
     ]
    }
   ],
   "source": [
    "model.pipeline.predict(df['Churn'])"
   ]
  },
  {
   "cell_type": "code",
   "execution_count": null,
   "id": "38dd2ab1",
   "metadata": {},
   "outputs": [],
   "source": []
  },
  {
   "cell_type": "code",
   "execution_count": null,
   "id": "249eabfd",
   "metadata": {},
   "outputs": [],
   "source": []
  },
  {
   "cell_type": "code",
   "execution_count": null,
   "id": "954f5dde",
   "metadata": {},
   "outputs": [],
   "source": []
  },
  {
   "cell_type": "code",
   "execution_count": null,
   "id": "e4c2dbd1",
   "metadata": {},
   "outputs": [],
   "source": []
  },
  {
   "cell_type": "code",
   "execution_count": null,
   "id": "172288a7",
   "metadata": {},
   "outputs": [],
   "source": []
  },
  {
   "cell_type": "code",
   "execution_count": null,
   "id": "4491e44d",
   "metadata": {},
   "outputs": [],
   "source": []
  },
  {
   "cell_type": "code",
   "execution_count": null,
   "id": "7999e559",
   "metadata": {},
   "outputs": [],
   "source": []
  },
  {
   "cell_type": "code",
   "execution_count": null,
   "id": "c01b2532",
   "metadata": {},
   "outputs": [],
   "source": []
  },
  {
   "cell_type": "code",
   "execution_count": null,
   "id": "0b47edd6",
   "metadata": {},
   "outputs": [],
   "source": []
  },
  {
   "cell_type": "code",
   "execution_count": null,
   "id": "0de99830",
   "metadata": {},
   "outputs": [],
   "source": []
  },
  {
   "cell_type": "code",
   "execution_count": null,
   "id": "e6d7ceb6",
   "metadata": {},
   "outputs": [],
   "source": []
  },
  {
   "cell_type": "code",
   "execution_count": null,
   "id": "08a5bfec",
   "metadata": {},
   "outputs": [],
   "source": []
  },
  {
   "cell_type": "code",
   "execution_count": null,
   "id": "7db4bc87",
   "metadata": {},
   "outputs": [],
   "source": []
  },
  {
   "cell_type": "code",
   "execution_count": null,
   "id": "517e9b41",
   "metadata": {},
   "outputs": [],
   "source": []
  },
  {
   "cell_type": "code",
   "execution_count": null,
   "id": "58263b97",
   "metadata": {},
   "outputs": [],
   "source": []
  },
  {
   "cell_type": "code",
   "execution_count": 15,
   "id": "82c187e2",
   "metadata": {},
   "outputs": [
    {
     "name": "stdout",
     "output_type": "stream",
     "text": [
      "Running on local URL:  http://127.0.0.1:7861\n",
      "\n",
      "To create a public link, set `share=True` in `launch()`.\n"
     ]
    },
    {
     "data": {
      "text/html": [
       "<div><iframe src=\"http://127.0.0.1:7861/\" width=\"100%\" height=\"500\" allow=\"autoplay; camera; microphone; clipboard-read; clipboard-write;\" frameborder=\"0\" allowfullscreen></iframe></div>"
      ],
      "text/plain": [
       "<IPython.core.display.HTML object>"
      ]
     },
     "metadata": {},
     "output_type": "display_data"
    },
    {
     "data": {
      "text/plain": []
     },
     "execution_count": 15,
     "metadata": {},
     "output_type": "execute_result"
    }
   ],
   "source": [
    "def predict_churn(gender, contract, internet_service, online_security, online_backup,\n",
    "                  device_protection, tech_support, streaming_tv, streaming_movies):\n",
    "    # Perform churn prediction based on the input features\n",
    "    # Replace this with your actual prediction code\n",
    "    prediction = \"Churn prediction\"\n",
    "    return prediction\n",
    "gr.Interface(\n",
    "    fn=predict_churn,\n",
    "    inputs=[gr.inputs.Dropdown(['Female', 'Male'], label='Gender'),\n",
    "            gr.inputs.Dropdown(['Month-to-month', 'One year', 'Two year'], label='Contract'),\n",
    "            gr.inputs.Dropdown(['DSL', 'Fiber optic', 'No'], label='Internet Service'),\n",
    "            gr.inputs.Radio(['Yes', 'No', 'No internet service'], label=\"Online Security\"),\n",
    "            gr.inputs.Radio(['Yes', 'No', 'No internet service'], label=\"Online Backup\"),\n",
    "            gr.inputs.Radio(['Yes', 'No', 'No internet service'], label=\"Device Protection\"),\n",
    "            gr.inputs.Radio(['Yes', 'No', 'No internet service'], label=\"Tech Support\"),\n",
    "            gr.inputs.Radio(['Yes', 'No', 'No internet service'], label=\"TV Streaming\"),\n",
    "            gr.inputs.Radio(['Yes', 'No', 'No internet service'], label=\"Movie Streaming\")],\n",
    "    outputs=gr.outputs.Label(),\n",
    "    title=\"Customer Churn Prediction App\",\n",
    "    description=\"Let's Get Started With Some Predictions!\"\n",
    ").launch()"
   ]
  },
  {
   "cell_type": "code",
   "execution_count": null,
   "id": "720f4ffc",
   "metadata": {},
   "outputs": [],
   "source": []
  }
 ],
 "metadata": {
  "kernelspec": {
   "display_name": "Python 3 (ipykernel)",
   "language": "python",
   "name": "python3"
  },
  "language_info": {
   "codemirror_mode": {
    "name": "ipython",
    "version": 3
   },
   "file_extension": ".py",
   "mimetype": "text/x-python",
   "name": "python",
   "nbconvert_exporter": "python",
   "pygments_lexer": "ipython3",
   "version": "3.9.13"
  }
 },
 "nbformat": 4,
 "nbformat_minor": 5
}
